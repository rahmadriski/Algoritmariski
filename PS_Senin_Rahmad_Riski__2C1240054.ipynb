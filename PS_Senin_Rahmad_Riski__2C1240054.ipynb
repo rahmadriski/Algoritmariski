{
  "nbformat": 4,
  "nbformat_minor": 0,
  "metadata": {
    "colab": {
      "provenance": [],
      "authorship_tag": "ABX9TyNoExrYVZRaZj3wmp+Y7UIu",
      "include_colab_link": true
    },
    "kernelspec": {
      "name": "python3",
      "display_name": "Python 3"
    },
    "language_info": {
      "name": "python"
    }
  },
  "cells": [
    {
      "cell_type": "markdown",
      "metadata": {
        "id": "view-in-github",
        "colab_type": "text"
      },
      "source": [
        "<a href=\"https://colab.research.google.com/github/rahmadriski/Algoritmariski/blob/main/PS_Senin_Rahmad_Riski__2C1240054.ipynb\" target=\"_parent\"><img src=\"https://colab.research.google.com/assets/colab-badge.svg\" alt=\"Open In Colab\"/></a>"
      ]
    },
    {
      "cell_type": "code",
      "execution_count": null,
      "metadata": {
        "id": "S8312ETm2H7J"
      },
      "outputs": [],
      "source": [
        "# Program HelloWorld\n",
        "# Mencetak Hello,Word! ke layar\n",
        "\n",
        "# KAMPUS\n",
        "# belum diperlukan\n",
        "\n",
        "# ALGORITMA\n",
        "print(\"Hello, world!\")"
      ]
    },
    {
      "cell_type": "code",
      "source": [
        "# Program Test\n",
        "# Spesifikasi: Menghitung nilai A dan B\n",
        "\n",
        "# KAMUS\n",
        "# A:int\n",
        "# B:int\n",
        "\n",
        "# ALGORITMA\n",
        "A=int(input(\"Masukan angka=\"))          #input\n",
        "B=int(input(\"Masukan angka=\"))\n",
        "\n",
        "A = A + B               #proses\n",
        "\n",
        "print(A)                #output\n",
        "print(B)\n"
      ],
      "metadata": {
        "colab": {
          "base_uri": "https://localhost:8080/"
        },
        "id": "pS-RwgpF3Ehq",
        "outputId": "a176ecd9-9344-4918-efa3-6dd309eff5c3"
      },
      "execution_count": 2,
      "outputs": [
        {
          "output_type": "stream",
          "name": "stdout",
          "text": [
            "Masukan angka=5\n",
            "Masukan angka=8\n",
            "13\n",
            "8\n"
          ]
        }
      ]
    },
    {
      "cell_type": "code",
      "source": [
        "# Program Toko Kelereng\n",
        "# Spesifikasi : Menghitung total nilai\n",
        "\n",
        "# KAMUS\n",
        "#m : 10\n",
        "#h : 15\n",
        "#k : 20\n",
        "\n",
        "#ALGORITMA\n",
        "m = int(input(\"masukan jumlah kelereng : m\"))\n",
        "h = int(input(\"masukan jumlah kelereng : h\"))\n",
        "k = int(input(\"masukan jumlah kelereng kuning: \"))\n",
        "totalhargakelereng=m*10+h*15+k*20\n",
        "\n",
        "print(totalhargakelereng)\n",
        "\n"
      ],
      "metadata": {
        "colab": {
          "base_uri": "https://localhost:8080/"
        },
        "id": "MTdKVDa797we",
        "outputId": "1fe3c546-a5e5-45f3-dbf8-70be06ac3e46"
      },
      "execution_count": 5,
      "outputs": [
        {
          "output_type": "stream",
          "name": "stdout",
          "text": [
            "masukan jumlah kelereng : m10\n",
            "masukan jumlah kelereng : h15\n",
            "masukan jumlah kelereng kuning: 20\n",
            "725\n"
          ]
        }
      ]
    }
  ]
}