{
  "cells": [
    {
      "cell_type": "markdown",
      "metadata": {
        "id": "view-in-github",
        "colab_type": "text"
      },
      "source": [
        "<a href=\"https://colab.research.google.com/github/rahmadriski/Algoritmariski/blob/main/latihan_soalP9_14_jan_2025.ipynb\" target=\"_parent\"><img src=\"https://colab.research.google.com/assets/colab-badge.svg\" alt=\"Open In Colab\"/></a>"
      ]
    },
    {
      "cell_type": "markdown",
      "source": [
        "soal 1"
      ],
      "metadata": {
        "id": "6EauhvzcMT_U"
      }
    },
    {
      "cell_type": "code",
      "source": [
        "nama = (input(\"masukkan nama anda: \"))\n",
        "print(f\"Halo, {nama}! selamat belajar python!\")"
      ],
      "metadata": {
        "colab": {
          "base_uri": "https://localhost:8080/"
        },
        "id": "TNXbvaRGIz-s",
        "outputId": "bea13796-ea2b-40f1-baae-9a63d0d01ff9"
      },
      "execution_count": null,
      "outputs": [
        {
          "output_type": "stream",
          "name": "stdout",
          "text": [
            "masukkan nama anda: pani\n",
            "Halo, pani! selamat belajar python!\n"
          ]
        }
      ]
    },
    {
      "cell_type": "markdown",
      "source": [
        "soal 2"
      ],
      "metadata": {
        "id": "4rlyhaN9Mfvj"
      }
    },
    {
      "cell_type": "code",
      "source": [
        "panjang = int(input(\"masukkan panjang: \"))\n",
        "lebar = int(input(\"masukkan lebar: \"))\n",
        "luas = panjang * lebar\n",
        "print(\"luas persegi panjang adalah: \", luas)"
      ],
      "metadata": {
        "colab": {
          "base_uri": "https://localhost:8080/"
        },
        "id": "7CF0VFE-MTct",
        "outputId": "5c545689-729b-4160-a245-5fe58d55f045"
      },
      "execution_count": null,
      "outputs": [
        {
          "output_type": "stream",
          "name": "stdout",
          "text": [
            "masukkan panjang: 3\n",
            "masukkan lebar: 5\n",
            "luas persegi panjang adalah:  15\n"
          ]
        }
      ]
    },
    {
      "cell_type": "markdown",
      "source": [
        "soal 3"
      ],
      "metadata": {
        "id": "G3hMGS5wN78-"
      }
    },
    {
      "cell_type": "code",
      "source": [
        "N = (int(input(\"masukkan bilangan: \")))\n",
        "if N % 2 == 0:\n",
        "    print(N ,\"adalah bilangan genap\")\n",
        "else:\n",
        "    print(N ,\"adalah bilangan ganjil\")"
      ],
      "metadata": {
        "colab": {
          "base_uri": "https://localhost:8080/"
        },
        "id": "W0qYyDXKMiVd",
        "outputId": "e294d6c7-52fb-4088-dbdc-848013e0c084"
      },
      "execution_count": null,
      "outputs": [
        {
          "output_type": "stream",
          "name": "stdout",
          "text": [
            "masukkan bilangan: 7\n",
            "7 adalah bilangan ganjil\n"
          ]
        }
      ]
    },
    {
      "cell_type": "markdown",
      "source": [
        "soal 4"
      ],
      "metadata": {
        "id": "kcZ7zHYdPBl2"
      }
    },
    {
      "cell_type": "code",
      "source": [
        "N = (int(input(\"masukkan batas deret bilangan: \")))\n",
        "for N in range(1,N+1):\n",
        "   print(N ,end=\" \")"
      ],
      "metadata": {
        "colab": {
          "base_uri": "https://localhost:8080/"
        },
        "id": "aMwo1RQkTwsu",
        "outputId": "eaf0d074-4b64-4885-b763-15110166669a"
      },
      "execution_count": null,
      "outputs": [
        {
          "output_type": "stream",
          "name": "stdout",
          "text": [
            "masukkan batas deret bilangan: 20\n",
            "1 2 3 4 5 6 7 8 9 10 11 12 13 14 15 16 17 18 19 20 "
          ]
        }
      ]
    },
    {
      "cell_type": "markdown",
      "source": [
        "soal 5"
      ],
      "metadata": {
        "id": "CHhegzAnS_I-"
      }
    },
    {
      "cell_type": "code",
      "source": [
        "a = int(input(\"masukkan bilangan a: \"))\n",
        "b = int(input(\"masukkan bilangan b: \"))\n",
        "N = 0\n",
        "for i in range(a,b+1):\n",
        "   N += i\n",
        "print(f\"jumlah dari\", a, \"sampai\", b, \"adalah\", N)"
      ],
      "metadata": {
        "colab": {
          "base_uri": "https://localhost:8080/"
        },
        "id": "K0Sv7Ce3WWm3",
        "outputId": "cd717fc0-1fa2-415c-815c-70de633a3d7d"
      },
      "execution_count": null,
      "outputs": [
        {
          "output_type": "stream",
          "name": "stdout",
          "text": [
            "masukkan bilangan a: 3\n",
            "masukkan bilangan b: 7\n",
            "jumlah dari 3 sampai 7 adalah 25\n"
          ]
        }
      ]
    },
    {
      "cell_type": "markdown",
      "source": [
        "soal 6"
      ],
      "metadata": {
        "id": "wQ4hJpUcXRbv"
      }
    },
    {
      "cell_type": "code",
      "source": [
        "a = int(input(\"masukkan bilangan pertama: \"))\n",
        "b = int(input(\"masukkan bilangan kedua: \"))\n",
        "print(\"bilangan genap antara\", a, \"sampai\", b, \"adalah \")\n",
        "for N in range(a,b+1):\n",
        "    if N % 2 == 0:\n",
        "        print(N, end=\" \")"
      ],
      "metadata": {
        "colab": {
          "base_uri": "https://localhost:8080/"
        },
        "id": "O9HdqPKIXQ_P",
        "outputId": "c921d20d-296a-479d-b0ef-e06e00c12423"
      },
      "execution_count": null,
      "outputs": [
        {
          "output_type": "stream",
          "name": "stdout",
          "text": [
            "masukkan bilangan pertama: 3\n",
            "masukkan bilangan kedua: 10\n",
            "bilangan genap antara 3 sampai 10 adalah \n",
            "4 6 8 10 "
          ]
        }
      ]
    },
    {
      "cell_type": "markdown",
      "source": [
        "soal 7"
      ],
      "metadata": {
        "id": "ucG_uWkWeAXi"
      }
    },
    {
      "cell_type": "code",
      "source": [
        "A = [5, 2, 8, 1]\n",
        "loop = [0] * len(A)\n",
        "for i in range(len(A)):\n",
        "  loop [len(A)-1-i]=A[i]\n",
        "print(\"array asli:\",A)\n",
        "print(\"array terbalik:\", loop)"
      ],
      "metadata": {
        "colab": {
          "base_uri": "https://localhost:8080/"
        },
        "id": "cLApQ5LMeFMo",
        "outputId": "6cf52186-86c6-4b7d-b413-812a9e5e5d4c"
      },
      "execution_count": null,
      "outputs": [
        {
          "output_type": "stream",
          "name": "stdout",
          "text": [
            "array asli: [5, 2, 8, 1]\n",
            "array terbalik: [1, 8, 2, 5]\n"
          ]
        }
      ]
    },
    {
      "cell_type": "code",
      "source": [
        "A = [5, 2, 8, 1]\n",
        "siking = A[::-1]\n",
        "print(\"array asli:\",A)\n",
        "print(\"array terbalik:\", siking)"
      ],
      "metadata": {
        "colab": {
          "base_uri": "https://localhost:8080/"
        },
        "id": "l-XFb87wfvEJ",
        "outputId": "71391727-e8ab-42f8-edbb-15d0a8a6c049"
      },
      "execution_count": null,
      "outputs": [
        {
          "output_type": "stream",
          "name": "stdout",
          "text": [
            "array asli: [5, 2, 8, 1]\n",
            "array terbalik: [1, 8, 2, 5]\n"
          ]
        }
      ]
    },
    {
      "cell_type": "code",
      "source": [
        "A = [5, 2, 8, 1]\n",
        "in_place = (A).reverse( )\n",
        "print(\"array terbalik:\",A)"
      ],
      "metadata": {
        "colab": {
          "base_uri": "https://localhost:8080/"
        },
        "id": "DleCphOEgO0a",
        "outputId": "df87854d-54da-46c4-c815-a9f992af7106"
      },
      "execution_count": null,
      "outputs": [
        {
          "output_type": "stream",
          "name": "stdout",
          "text": [
            "array terbalik: [1, 8, 2, 5]\n"
          ]
        }
      ]
    },
    {
      "cell_type": "code",
      "source": [
        "A = [5, 2, 8, 1]\n",
        "A.sort(reverse=True)\n",
        "print(\"array berurutan:\", A)"
      ],
      "metadata": {
        "colab": {
          "base_uri": "https://localhost:8080/"
        },
        "id": "i2M3IqgUi57D",
        "outputId": "8d071ffe-67d9-4f25-f1d3-753c8d55353f"
      },
      "execution_count": null,
      "outputs": [
        {
          "output_type": "stream",
          "name": "stdout",
          "text": [
            "array berurutan: [8, 5, 2, 1]\n"
          ]
        }
      ]
    },
    {
      "cell_type": "markdown",
      "source": [
        "soal 8"
      ],
      "metadata": {
        "id": "pO60ntmGeh9a"
      }
    },
    {
      "cell_type": "code",
      "source": [
        "angka= int(input(\"masukan bilangan: \"))\n",
        "prima = True\n",
        "\n",
        "if angka < 2:\n",
        "  prima = False\n",
        "else:\n",
        "  for i in range(2, int(angka**0.5)+1):\n",
        "    if angka % i == 0:\n",
        "      prima = False\n",
        "      break\n",
        "if prima:\n",
        "    print(angka,\"adalah bilangan prima\")\n",
        "else:\n",
        "    print(angka,\"bukan bilangan prima\")"
      ],
      "metadata": {
        "colab": {
          "base_uri": "https://localhost:8080/"
        },
        "id": "AuQzrenbeSOZ",
        "outputId": "d62bf68e-80d4-4ccc-8cd1-3e1bba199e07"
      },
      "execution_count": null,
      "outputs": [
        {
          "output_type": "stream",
          "name": "stdout",
          "text": [
            "masukan bilangan: 13\n",
            "13 adalah bilangan prima\n"
          ]
        }
      ]
    }
  ],
  "metadata": {
    "colab": {
      "provenance": [],
      "include_colab_link": true
    },
    "kernelspec": {
      "display_name": "Python 3",
      "name": "python3"
    },
    "language_info": {
      "name": "python"
    }
  },
  "nbformat": 4,
  "nbformat_minor": 0
}