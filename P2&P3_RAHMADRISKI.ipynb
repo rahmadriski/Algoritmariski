{
  "cells": [
    {
      "cell_type": "markdown",
      "metadata": {
        "id": "view-in-github",
        "colab_type": "text"
      },
      "source": [
        "<a href=\"https://colab.research.google.com/github/rahmadriski/Algoritmariski/blob/main/P2%26P3_RAHMADRISKI.ipynb\" target=\"_parent\"><img src=\"https://colab.research.google.com/assets/colab-badge.svg\" alt=\"Open In Colab\"/></a>"
      ]
    },
    {
      "cell_type": "code",
      "source": [
        "# Matriks A (2x3)\n",
        "A = [[1, 2, 3],\n",
        "  [4, 5, 6]]\n",
        "\n",
        "# Matriks B (2x3)\n",
        "B = [[6, 5, 4],\n",
        "   [3, 2, 1]]\n",
        "\n",
        "# Inisialisasi hasil penjumlahan dan pengurangan\n",
        "jumlah = []\n",
        "selisih = []\n",
        "\n",
        "for i in range(2): # 2 baris\n",
        "  baris_jumlah = []\n",
        "  baris_selisih = []\n",
        "  for j in range(3): # 3 kolom\n",
        "    baris_jumlah.append(A[i][j] + B[i][j])\n",
        "    baris_selisih.append(A[i][j] - B[i][j])\n",
        "  jumlah.append(baris_jumlah)\n",
        "  selisih.append(baris_selisih)\n",
        "\n",
        "# Menampilkan hasil\n",
        "print(\"Hasil Penjumlahan Matriks:\")\n",
        "for row in jumlah:\n",
        "  print(row)\n",
        "\n",
        "print(\"\\nHasil Pengurangan Matriks:\")\n",
        "for row in selisih:\n",
        "  print(row)"
      ],
      "metadata": {
        "id": "ytB6ikqohh_k",
        "outputId": "9f236f05-da0d-47ea-f034-d48c6b441a3f",
        "colab": {
          "base_uri": "https://localhost:8080/"
        }
      },
      "execution_count": null,
      "outputs": [
        {
          "output_type": "stream",
          "name": "stdout",
          "text": [
            "Hasil Penjumlahan Matriks:\n",
            "[7, 7, 7]\n",
            "[7, 7, 7]\n",
            "\n",
            "Hasil Pengurangan Matriks:\n",
            "[-5, -3, -1]\n",
            "[1, 3, 5]\n"
          ]
        }
      ]
    },
    {
      "cell_type": "code",
      "source": [
        "angka = [[1, 2],[3, 4]]\n",
        "for baris in angka:\n",
        "    for elemen in baris:\n",
        "        print(elemen, end=' ')\n",
        "    print()"
      ],
      "metadata": {
        "colab": {
          "base_uri": "https://localhost:8080/"
        },
        "id": "NwtStbQElJHU",
        "outputId": "8896fad2-579e-4efd-b9cd-cb6e08a42b9c"
      },
      "execution_count": null,
      "outputs": [
        {
          "output_type": "stream",
          "name": "stdout",
          "text": [
            "1 2 \n",
            "3 4 \n"
          ]
        }
      ]
    },
    {
      "cell_type": "code",
      "source": [
        "# Membuat array 2 dimensi\n",
        "array_2d = [[1, 2, 3], [4, 5, 6], [7, 8, 9]]\n",
        "# Menampilkan elemen array 2 dimensi\n",
        "for i in range(len(array_2d)):\n",
        "    for j in range(len(array_2d[i])):\n",
        "        print(array_2d[i][j], end=\" \")\n",
        "        print()"
      ],
      "metadata": {
        "colab": {
          "base_uri": "https://localhost:8080/"
        },
        "id": "41eJoSP0jENN",
        "outputId": "e34115c0-f15e-451c-9cd0-60dc95c03f7b"
      },
      "execution_count": null,
      "outputs": [
        {
          "output_type": "stream",
          "name": "stdout",
          "text": [
            "1 \n",
            "2 \n",
            "3 \n",
            "4 \n",
            "5 \n",
            "6 \n",
            "7 \n",
            "8 \n",
            "9 \n"
          ]
        }
      ]
    },
    {
      "cell_type": "code",
      "source": [
        "buah = [\"apel\", \"mangga\", \"jeruk\"]\n",
        "print(buah[1])"
      ],
      "metadata": {
        "id": "lRMfBdndh3l7",
        "outputId": "81f2a4d2-5f58-47f2-d133-00a6ae12d388",
        "colab": {
          "base_uri": "https://localhost:8080/"
        }
      },
      "execution_count": null,
      "outputs": [
        {
          "output_type": "stream",
          "name": "stdout",
          "text": [
            "mangga\n"
          ]
        }
      ]
    },
    {
      "cell_type": "code",
      "source": [
        "hewan = [[\"Kucing\", \"Anjing\"], [\"Gajah\", \"Harimau\"], [\"Kelinci\", \"Sapi\"]]\n",
        "print(hewan[2][0])"
      ],
      "metadata": {
        "id": "GqbfciLviLE_",
        "outputId": "48bf01bb-8271-4b15-ce13-033605530b41",
        "colab": {
          "base_uri": "https://localhost:8080/"
        }
      },
      "execution_count": null,
      "outputs": [
        {
          "output_type": "stream",
          "name": "stdout",
          "text": [
            "Kelinci\n"
          ]
        }
      ]
    },
    {
      "cell_type": "code",
      "source": [
        "def pangkat(x, y):\n",
        "    \"\"\"Mengembalikan x pangkat y.\"\"\"\n",
        "    return x ** y\n",
        "\n",
        "x = int(input(\"Masukkan angka: \"))\n",
        "y = int(input(\"Masukkan pangkat: \"))\n",
        "print(f\"{x} pangkat {y} adalah\", pangkat(x, y))"
      ],
      "metadata": {
        "id": "VsPAmzfziNyD",
        "outputId": "18bd1eb7-963b-4286-a1da-8865f78495b3",
        "colab": {
          "base_uri": "https://localhost:8080/"
        }
      },
      "execution_count": null,
      "outputs": [
        {
          "output_type": "stream",
          "name": "stdout",
          "text": [
            "Masukkan angka: 5\n",
            "Masukkan pangkat: 2\n",
            "5 pangkat 2 adalah 25\n"
          ]
        }
      ]
    },
    {
      "cell_type": "code",
      "source": [
        "print(\"Menu:\")\n",
        "print(\"1. Burger\")\n",
        "print(\"2. Ayam Geprek\")\n",
        "print(\"3. Mie Instan\")"
      ],
      "metadata": {
        "id": "2kduU4SqiYhK",
        "outputId": "6cd9d635-3716-4bc5-fd97-1c73a17cacaa",
        "colab": {
          "base_uri": "https://localhost:8080/"
        }
      },
      "execution_count": null,
      "outputs": [
        {
          "output_type": "stream",
          "name": "stdout",
          "text": [
            "Menu:\n",
            "1. Burger\n",
            "2. Ayam Geprek\n",
            "3. Mie Instan\n"
          ]
        }
      ]
    },
    {
      "cell_type": "code",
      "source": [
        "def tampilkan_menu(pil1, pil2, pil3):\n",
        "    print(\"Menu:\")\n",
        "    print(\"1.\", pil1)\n",
        "    print(\"2.\", pil2)\n",
        "    print(\"3.\", pil3)\n",
        "\n",
        "    pilihan = input(\"Masukkan pilihan (1/2/3): \")\n",
        "\n",
        "    if pilihan == \"1\":\n",
        "        print(\"Anda memilih menu:\", pil1) # Indented this line\n",
        "    elif pilihan == \"2\":\n",
        "        print(\"Anda memilih menu:\", pil2) # Indented this line\n",
        "    elif pilihan == \"3\":\n",
        "        print(\"Anda memilih menu:\", pil3) # Indented this line\n",
        "    else:\n",
        "        print(\"Pilihan tidak valid\") # Indented this line\n",
        "\n",
        "# Memanggil prosedur untuk menampilkan menu\n",
        "tampilkan_menu(\"Burger\", \"Ayam Geprek\", \"Mie Instan\")"
      ],
      "metadata": {
        "id": "Jc_5FSDkicIb",
        "outputId": "64f851c7-0289-43ff-b568-8ec6e2134689",
        "colab": {
          "base_uri": "https://localhost:8080/"
        }
      },
      "execution_count": null,
      "outputs": [
        {
          "output_type": "stream",
          "name": "stdout",
          "text": [
            "Menu:\n",
            "1. Burger\n",
            "2. Ayam Geprek\n",
            "3. Mie Instan\n",
            "Masukkan pilihan (1/2/3): 1\n",
            "Anda memilih menu: Burger\n"
          ]
        }
      ]
    },
    {
      "cell_type": "code",
      "source": [
        "def hitung_pangkat(dasar, pangkat):\n",
        "  hasil = dasar ** pangkat\n",
        "  return hasil\n",
        "\n",
        "# Contoh penggunaan fungsi\n",
        "hasil_pangkat = hitung_pangkat(5, 3)\n",
        "print(hasil_pangkat)\n",
        "\n",
        "hasil_pangkat_lain = hitung_pangkat(6, 3)\n",
        "print(hasil_pangkat_lain)"
      ],
      "metadata": {
        "colab": {
          "base_uri": "https://localhost:8080/"
        },
        "id": "A6U0vZfiwiJ9",
        "outputId": "e64a658b-cd0f-4c1f-81a2-5d93566846f6"
      },
      "execution_count": null,
      "outputs": [
        {
          "output_type": "stream",
          "name": "stdout",
          "text": [
            "125\n",
            "216\n"
          ]
        }
      ]
    },
    {
      "cell_type": "code",
      "source": [
        "def hitung_umur(tahun_lahir):\n",
        "  tahun_sekarang = 2025\n",
        "  umur = tahun_sekarang - tahun_lahir\n",
        "  print(f\"Umur Anda adalah: {umur} tahun\")\n",
        "\n",
        "# Contoh penggunaan prosedur\n",
        "hitung_umur(1921)"
      ],
      "metadata": {
        "colab": {
          "base_uri": "https://localhost:8080/"
        },
        "id": "HxR6O7ktwh02",
        "outputId": "1f564a4f-c68f-4327-a039-a94c11bb6a92"
      },
      "execution_count": null,
      "outputs": [
        {
          "output_type": "stream",
          "name": "stdout",
          "text": [
            "Umur Anda adalah: 104 tahun\n"
          ]
        }
      ]
    },
    {
      "cell_type": "code",
      "source": [
        "def kuadrat(n):\n",
        "  \"\"\"Mengembalikan kuadrat dari angka yang diberikan.\"\"\"\n",
        "  return n * n\n",
        "\n",
        "n = int(input(\"Masukkan angka: \"))\n",
        "n2 = kuadrat(n)\n",
        "print(n2)"
      ],
      "metadata": {
        "colab": {
          "base_uri": "https://localhost:8080/"
        },
        "id": "AcTbYyKmuhbe",
        "outputId": "8da76a98-ccfa-46bc-b506-1a51fad4d362"
      },
      "execution_count": null,
      "outputs": [
        {
          "output_type": "stream",
          "name": "stdout",
          "text": [
            "Masukkan angka: 25\n",
            "625\n"
          ]
        }
      ]
    },
    {
      "cell_type": "code",
      "source": [
        "# Matriks 1 3x3\n",
        "matriks1 = [[5, 10, 15], [20, 25, 30],  [15, 10, 14]]\n",
        "\n",
        "# Contoh matriks 2 (dengan nilai bebas)\n",
        "matriks2 = [ [1, 2, 3],  [4, 5, 6], [7, 8, 9]]\n",
        "\n",
        "# Inisialisasi hasil penjumlahan dan pengurangan\n",
        "jumlah = [[matriks1[i][j] + matriks2[i][j] for j in range(3)]for i in range(3)]\n",
        "\n",
        "kurang = [[matriks1[i][j] - matriks2[i][j] for j in range(3)] for i in range(3)]\n",
        "\n",
        "kali = [[matriks1[i][j] * matriks2[i][j] for j in range(3)] for i in range(3)]\n",
        "\n",
        "# Menampilkan hasil\n",
        "print(\"\\nHasil Penjumlahan Matriks:\")\n",
        "for row in jumlah:\n",
        "    print(row)\n",
        "\n",
        "print(\"\\nHasil Pengurangan Matriks:\")\n",
        "for row in kurang:\n",
        "    print(row)\n",
        "\n",
        "print(\"\\nHasil Perkalian Elemen Matriks:\")\n",
        "for row in kali:\n",
        "    print(row)"
      ],
      "metadata": {
        "colab": {
          "base_uri": "https://localhost:8080/"
        },
        "id": "VQlz43rkoeZV",
        "outputId": "a264159c-755f-4273-9415-c2fd42010729"
      },
      "execution_count": null,
      "outputs": [
        {
          "output_type": "stream",
          "name": "stdout",
          "text": [
            "\n",
            "Hasil Penjumlahan Matriks:\n",
            "[6, 12, 18]\n",
            "[24, 30, 36]\n",
            "[22, 18, 23]\n",
            "\n",
            "Hasil Pengurangan Matriks:\n",
            "[4, 8, 12]\n",
            "[16, 20, 24]\n",
            "[8, 2, 5]\n",
            "\n",
            "Hasil Perkalian Elemen Matriks:\n",
            "[5, 20, 45]\n",
            "[80, 125, 180]\n",
            "[105, 80, 126]\n"
          ]
        }
      ]
    },
    {
      "cell_type": "code",
      "source": [
        "angka = [[1, 2],[3, 4]]\n",
        "for baris in angka:\n",
        "    for elemen in baris:\n",
        "        print(elemen, end=' ')\n",
        "    print()"
      ],
      "metadata": {
        "colab": {
          "base_uri": "https://localhost:8080/"
        },
        "outputId": "79e1fddd-5f74-46f1-df5f-64aeab3b319e",
        "id": "Xg6fa8AQhxt1"
      },
      "execution_count": null,
      "outputs": [
        {
          "output_type": "stream",
          "name": "stdout",
          "text": [
            "1 2 \n",
            "3 4 \n"
          ]
        }
      ]
    }
  ],
  "metadata": {
    "colab": {
      "toc_visible": true,
      "provenance": [],
      "include_colab_link": true
    },
    "kernelspec": {
      "display_name": "Python 3",
      "name": "python3"
    }
  },
  "nbformat": 4,
  "nbformat_minor": 0
}