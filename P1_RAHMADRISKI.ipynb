{
  "cells": [
    {
      "cell_type": "markdown",
      "metadata": {
        "id": "view-in-github",
        "colab_type": "text"
      },
      "source": [
        "<a href=\"https://colab.research.google.com/github/rahmadriski/Algoritmariski/blob/main/P1_RAHMADRISKI.ipynb\" target=\"_parent\"><img src=\"https://colab.research.google.com/assets/colab-badge.svg\" alt=\"Open In Colab\"/></a>"
      ]
    },
    {
      "cell_type": "code",
      "source": [
        "nilai = 85\n",
        "\n",
        "if nilai >= 90:\n",
        "    print(\"Nilai A\")\n",
        "elif nilai >= 80:\n",
        "    print(\"Nilai B\")\n",
        "elif nilai >= 70:\n",
        "    print(\"Nilai C\")\n",
        "else:\n",
        "    print(\"Nilai D\")"
      ],
      "metadata": {
        "id": "28BUt7bhdWAM",
        "outputId": "918a7cf8-5265-48b7-aa45-9c607188baf7",
        "colab": {
          "base_uri": "https://localhost:8080/"
        }
      },
      "execution_count": null,
      "outputs": [
        {
          "output_type": "stream",
          "name": "stdout",
          "text": [
            "Nilai B\n"
          ]
        }
      ]
    },
    {
      "cell_type": "code",
      "source": [
        "nilai = 60\n",
        "\n",
        "if nilai >= 75:\n",
        "    print(\"Lulus\")\n",
        "else:\n",
        "    print(\"Tidak lulus\")"
      ],
      "metadata": {
        "id": "mVfMC3o4dWDg",
        "outputId": "b79caa6e-06b0-4ee9-bd2f-11bd484962a4",
        "colab": {
          "base_uri": "https://localhost:8080/"
        }
      },
      "execution_count": null,
      "outputs": [
        {
          "output_type": "stream",
          "name": "stdout",
          "text": [
            "Tidak lulus\n"
          ]
        }
      ]
    },
    {
      "cell_type": "code",
      "source": [
        "nilai = 80\n",
        "\n",
        "if nilai >= 75:\n",
        "    print(\"Lulus\")"
      ],
      "metadata": {
        "id": "IGI1Po1qlkcc",
        "outputId": "5f94bf41-50ab-43a4-a1bd-dff94d04b23c",
        "colab": {
          "base_uri": "https://localhost:8080/"
        }
      },
      "execution_count": null,
      "outputs": [
        {
          "output_type": "stream",
          "name": "stdout",
          "text": [
            "Lulus\n"
          ]
        }
      ]
    },
    {
      "cell_type": "code",
      "source": [
        "for i in range(1, 11):\n",
        "    if i == 5:\n",
        "         continue\n",
        "    if i == 8:\n",
        "        break\n",
        "    print(i)"
      ],
      "metadata": {
        "id": "EjC7fEzLka5b",
        "outputId": "03739fec-362c-4e8b-bb6c-258b653b3597",
        "colab": {
          "base_uri": "https://localhost:8080/"
        }
      },
      "execution_count": null,
      "outputs": [
        {
          "output_type": "stream",
          "name": "stdout",
          "text": [
            "1\n",
            "2\n",
            "3\n",
            "4\n",
            "6\n",
            "7\n"
          ]
        }
      ]
    },
    {
      "cell_type": "code",
      "source": [
        "for i in range(3):\n",
        "  print(\"Belajar Python\")"
      ],
      "metadata": {
        "id": "PF80aHzjgg3s",
        "outputId": "d7f3c411-2e51-49d8-d129-0dfbfda42ed6",
        "colab": {
          "base_uri": "https://localhost:8080/"
        }
      },
      "execution_count": null,
      "outputs": [
        {
          "output_type": "stream",
          "name": "stdout",
          "text": [
            "Belajar Python\n",
            "Belajar Python\n",
            "Belajar Python\n"
          ]
        }
      ]
    },
    {
      "cell_type": "code",
      "source": [
        "# Menampilkan angka 1 sampai 5\n",
        "for angka in range(1, 6):\n",
        "    print(angka)"
      ],
      "metadata": {
        "id": "t-Oh-UmogkAL",
        "outputId": "e507163d-90e6-435f-9c54-82777fe21ecf",
        "colab": {
          "base_uri": "https://localhost:8080/"
        }
      },
      "execution_count": null,
      "outputs": [
        {
          "output_type": "stream",
          "name": "stdout",
          "text": [
            "1\n",
            "2\n",
            "3\n",
            "4\n",
            "5\n"
          ]
        }
      ]
    },
    {
      "cell_type": "code",
      "source": [
        "i = 1\n",
        "while i <= 3:\n",
        "  print(\"Angka ke-\", i)\n",
        "  i += 1"
      ],
      "metadata": {
        "id": "Q4LtetNfguGe",
        "outputId": "9938b55b-7ed0-44bf-8cfe-5e4590ba0797",
        "colab": {
          "base_uri": "https://localhost:8080/"
        }
      },
      "execution_count": null,
      "outputs": [
        {
          "output_type": "stream",
          "name": "stdout",
          "text": [
            "Angka ke- 1\n",
            "Angka ke- 2\n",
            "Angka ke- 3\n"
          ]
        }
      ]
    },
    {
      "cell_type": "code",
      "source": [],
      "metadata": {
        "id": "8iLwzeRAbj8J"
      },
      "execution_count": null,
      "outputs": []
    },
    {
      "cell_type": "code",
      "source": [
        "for i in range(1, 10):\n",
        "    if i == 5:\n",
        "         continue\n",
        "    if i == 8:\n",
        "          break\n",
        "    print(i)"
      ],
      "metadata": {
        "id": "JT6kEk8RjXLT",
        "outputId": "704bc5d8-ece0-40c1-ad1c-63451a130963",
        "colab": {
          "base_uri": "https://localhost:8080/"
        }
      },
      "execution_count": null,
      "outputs": [
        {
          "output_type": "stream",
          "name": "stdout",
          "text": [
            "1\n",
            "2\n",
            "3\n",
            "4\n",
            "6\n",
            "7\n"
          ]
        }
      ]
    },
    {
      "cell_type": "code",
      "source": [
        "umur = 20\n",
        "punya_ktp = True\n",
        "\n",
        "if umur >= 17:\n",
        "    if punya_ktp:\n",
        "        print(\"Dapat membuat KTP\")\n",
        "    else:\n",
        "        print(\"Belum punya KTP\")\n",
        "else:\n",
        "    print(\"Belum cukup umur\")"
      ],
      "metadata": {
        "id": "oStR30zVeDvq",
        "outputId": "21884632-df28-4be5-c4bb-3a845bdf41cb",
        "colab": {
          "base_uri": "https://localhost:8080/"
        }
      },
      "execution_count": null,
      "outputs": [
        {
          "output_type": "stream",
          "name": "stdout",
          "text": [
            "Dapat membuat KTP\n"
          ]
        }
      ]
    },
    {
      "cell_type": "code",
      "source": [
        "usia = int(input(\"Masukkan Usia Anda \"))\n",
        "\n",
        "if usia >=18:\n",
        "    print(\"Wih Dewasa\")\n",
        "elif usia >= 13:\n",
        "    print(\"Sudah Remaja\")\n",
        "else:\n",
        "    print(\"Masih Anak-Anak\")"
      ],
      "metadata": {
        "id": "uIuxMtGneG4p",
        "outputId": "25fe761d-a653-4fc5-f7d9-daa54beea838",
        "colab": {
          "base_uri": "https://localhost:8080/"
        }
      },
      "execution_count": null,
      "outputs": [
        {
          "output_type": "stream",
          "name": "stdout",
          "text": [
            "Masukkan Usia Anda 21\n",
            "Wih Dewasa\n"
          ]
        }
      ]
    }
  ],
  "metadata": {
    "colab": {
      "toc_visible": true,
      "provenance": [],
      "include_colab_link": true
    },
    "kernelspec": {
      "display_name": "Python 3",
      "name": "python3"
    }
  },
  "nbformat": 4,
  "nbformat_minor": 0
}