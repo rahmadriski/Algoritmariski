{
  "cells": [
    {
      "cell_type": "markdown",
      "metadata": {
        "id": "view-in-github",
        "colab_type": "text"
      },
      "source": [
        "<a href=\"https://colab.research.google.com/github/rahmadriski/Algoritmariski/blob/main/latsol_rahmadriski.ipynb\" target=\"_parent\"><img src=\"https://colab.research.google.com/assets/colab-badge.svg\" alt=\"Open In Colab\"/></a>"
      ]
    },
    {
      "cell_type": "code",
      "source": [
        "#program input nama\n",
        "nama = input(\"masukan nama anda\")\n",
        "print(\"halo,(nama)selamat belajar python\")"
      ],
      "metadata": {
        "colab": {
          "base_uri": "https://localhost:8080/"
        },
        "id": "C8RfEo3pExUH",
        "outputId": "032c148c-4759-43be-9e94-c1ef63cda5c3"
      },
      "execution_count": 5,
      "outputs": [
        {
          "output_type": "stream",
          "name": "stdout",
          "text": [
            "masukan nama andariski\n",
            "halo,(nama)selamat belajar python\n"
          ]
        }
      ]
    },
    {
      "cell_type": "code",
      "source": [
        "panjang = float(input(\"masukkan panjang (p):\"))\n",
        "Lebar = float(input(\"masukkan lebar (L): \"))\n",
        "LUAS = panjang * Lebar\n",
        "print(f\"Luas Persegi Panjang adalah {LUAS}\")"
      ],
      "metadata": {
        "colab": {
          "base_uri": "https://localhost:8080/"
        },
        "id": "TT66E42RJQeG",
        "outputId": "3ee79ce2-481b-41c7-d7c7-09ba9045ca35"
      },
      "execution_count": 11,
      "outputs": [
        {
          "output_type": "stream",
          "name": "stdout",
          "text": [
            "masukkan panjang (p):5\n",
            "masukkan lebar (L): 3\n",
            "Luas Persegi Panjang adalah 15.0\n"
          ]
        }
      ]
    },
    {
      "cell_type": "code",
      "source": [
        "# Meminta pengguna memasukkan sebuah bilangan bulat\n",
        "bilangan = int(input(\"Masukkan sebuah bilangan bulat: \"))\n",
        "\n",
        "# Menentukan apakah bilangan tersebut genap atau ganjil\n",
        "if bilangan % 2 == 0:\n",
        "    print(f\"{bilangan} adalah bilangan genap.\")\n",
        "else:\n",
        "    print(f\"{bilangan} adalah bilangan ganjil.\")"
      ],
      "metadata": {
        "colab": {
          "base_uri": "https://localhost:8080/"
        },
        "id": "xvTpZ8NQJv6e",
        "outputId": "f9c877b9-4217-482e-948a-0a0459eb4f8f"
      },
      "execution_count": 12,
      "outputs": [
        {
          "output_type": "stream",
          "name": "stdout",
          "text": [
            "Masukkan sebuah bilangan bulat: 7\n",
            "7 adalah bilangan ganjil.\n"
          ]
        }
      ]
    },
    {
      "cell_type": "code",
      "source": [
        "for i in range(1, 21):\n",
        "    print(i, end=\"  \")"
      ],
      "metadata": {
        "colab": {
          "base_uri": "https://localhost:8080/"
        },
        "id": "IW8fbpdFJ139",
        "outputId": "61a0b967-70d7-4701-e65e-0fdebba1c4cb"
      },
      "execution_count": 16,
      "outputs": [
        {
          "output_type": "stream",
          "name": "stdout",
          "text": [
            "1  2  3  4  5  6  7  8  9  10  11  12  13  14  15  16  17  18  19  20  "
          ]
        }
      ]
    },
    {
      "cell_type": "code",
      "source": [
        "#program memasukan dua bilangan bulat a dan b\n",
        "#program menghitung jumlah semua bilangan antara a dan b\n",
        "\n",
        "a = int(input(\"masukkan bilangan a:\"))\n",
        "b = int(input(\"masukkan bilangan b:\"))\n",
        "jumlah = 0\n",
        "for i in range(a, b + 1):\n",
        "    jumlah += i\n",
        "print(f\"Jumlah semua bilangan antara {a} dan {b} adalah {jumlah}\")"
      ],
      "metadata": {
        "colab": {
          "base_uri": "https://localhost:8080/"
        },
        "id": "D-72uTx8NaqM",
        "outputId": "eb68b0c5-72db-4f1e-93d0-70da3972c205"
      },
      "execution_count": 2,
      "outputs": [
        {
          "output_type": "stream",
          "name": "stdout",
          "text": [
            "masukkan bilangan a:3\n",
            "masukkan bilangan b:7\n",
            "Jumlah semua bilangan antara 3 dan 7 adalah 25\n"
          ]
        }
      ]
    },
    {
      "cell_type": "code",
      "source": [
        "#program memasukan dua bilangan bulat a dan b\n",
        "#program menghitung jumlah semua bilangan antara a dan b\n",
        "\n",
        "a = int(input(\"masukkan bilangan a:\"))\n",
        "b = int(input(\"masukkan bilangan b:\"))\n",
        "jumlah = 0\n",
        "while a <= b:\n",
        "    jumlah += a\n",
        "    a += 1\n",
        "print(f\"Jumlah semua bilangan antara {a} dan {b} adalah {jumlah}\")"
      ],
      "metadata": {
        "colab": {
          "base_uri": "https://localhost:8080/"
        },
        "id": "2RhXcCHYRoK7",
        "outputId": "1aa8ab48-7e8a-46e7-8189-4cd259fbe604"
      },
      "execution_count": 3,
      "outputs": [
        {
          "output_type": "stream",
          "name": "stdout",
          "text": [
            "masukkan bilangan a:3\n",
            "masukkan bilangan b:7\n",
            "Jumlah semua bilangan antara 8 dan 7 adalah 25\n"
          ]
        }
      ]
    },
    {
      "cell_type": "code",
      "source": [
        "# Meminta input dua bilangan bulat dari pengguna\n",
        "a = int(input(\"Masukkan bilangan pertama (a): \"))\n",
        "b = int(input(\"Masukkan bilangan kedua (b): \"))\n",
        "\n",
        "# Menentukan batas bawah dan atas\n",
        "batas_bawah = min(a, b)\n",
        "batas_atas = max(a, b)\n",
        "\n",
        "# Memulai dengan bilangan pertama genap dalam rentang\n",
        "if batas_bawah % 2 != 0:\n",
        "    batas_bawah += 1  # Menyesuaikan ke bilangan genap berikutnya\n",
        "\n",
        "# Menggunakan while untuk mencetak bilangan genap\n",
        "while batas_bawah <= batas_atas:\n",
        "    print(batas_bawah)\n",
        "    batas_bawah += 2  # Melompat ke bilangan genap berikutnya"
      ],
      "metadata": {
        "colab": {
          "base_uri": "https://localhost:8080/"
        },
        "id": "zud0muPeUH1s",
        "outputId": "4d7a7270-4b57-4ddd-baf8-039ece610980"
      },
      "execution_count": 4,
      "outputs": [
        {
          "output_type": "stream",
          "name": "stdout",
          "text": [
            "Masukkan bilangan pertama (a): 3\n",
            "Masukkan bilangan kedua (b): 10\n",
            "4\n",
            "6\n",
            "8\n",
            "10\n"
          ]
        }
      ]
    },
    {
      "cell_type": "code",
      "source": [
        "# Meminta input dua bilangan bulat dari pengguna\n",
        "a = int(input(\"Masukkan bilangan pertama (a): \"))\n",
        "b = int(input(\"Masukkan bilangan kedua (b): \"))\n",
        "\n",
        "# Menentukan batas bawah dan atas\n",
        "batas_bawah = min(a, b)\n",
        "batas_atas = max(a, b)\n",
        "\n",
        "# Memulai dengan bilangan pertama genap dalam rentang\n",
        "if batas_bawah % 2 != 0:\n",
        "    batas_bawah += 1  # Menyesuaikan ke bilangan genap berikutnya\n",
        "\n",
        "# Menggunakan while untuk mencetak bilangan genap\n",
        "while batas_bawah <= batas_atas:\n",
        "    print(batas_bawah, end=\" \")  # Menampilkan ke samping dengan spasi\n",
        "    batas_bawah += 2  # Melompat ke bilangan genap berikutnya"
      ],
      "metadata": {
        "colab": {
          "base_uri": "https://localhost:8080/"
        },
        "id": "_t29HJOOVbkK",
        "outputId": "6c777ed8-78ea-4130-d2a1-83ac37a6467e"
      },
      "execution_count": 5,
      "outputs": [
        {
          "output_type": "stream",
          "name": "stdout",
          "text": [
            "Masukkan bilangan pertama (a): 3\n",
            "Masukkan bilangan kedua (b): 10\n",
            "4 6 8 10 "
          ]
        }
      ]
    },
    {
      "cell_type": "code",
      "source": [
        "#Meminta input dua bilangan bulat dari pengguna\n",
        "a = int(input(\"Masukkan bilangan pertama (a): \"))\n",
        "b = int(input(\"Masukkan bilangan kedua (b): \"))\n",
        "\n",
        "# Menentukan batas bawah dan atas\n",
        "batas_bawah = min(a, b)\n",
        "batas_atas = max(a, b)\n",
        "\n",
        "# Menampilkan bilangan genap dalam rentang\n",
        "for i in range(batas_bawah, batas_atas + 1):\n",
        "    if i % 2 == 0:\n",
        "        print(i)"
      ],
      "metadata": {
        "colab": {
          "base_uri": "https://localhost:8080/"
        },
        "id": "UVB0AP-TVy8r",
        "outputId": "9f4ee574-63c3-45de-9ab1-a2be6b309a61"
      },
      "execution_count": 6,
      "outputs": [
        {
          "output_type": "stream",
          "name": "stdout",
          "text": [
            "Masukkan bilangan pertama (a): 3\n",
            "Masukkan bilangan kedua (b): 10\n",
            "4\n",
            "6\n",
            "8\n",
            "10\n"
          ]
        }
      ]
    },
    {
      "cell_type": "code",
      "source": [
        "# Mendefinisikan array\n",
        "A = [5, 2, 8, 1]\n",
        "\n",
        "# Mencetak nilai array dalam urutan terbalik\n",
        "for i in range(len(A)-1, -1, -1):\n",
        "    print(A[i], end=\" \")"
      ],
      "metadata": {
        "colab": {
          "base_uri": "https://localhost:8080/"
        },
        "id": "AxraehYnWG0z",
        "outputId": "07b10811-4630-4557-f38e-465c747d8378"
      },
      "execution_count": 7,
      "outputs": [
        {
          "output_type": "stream",
          "name": "stdout",
          "text": [
            "1 8 2 5 "
          ]
        }
      ]
    },
    {
      "cell_type": "code",
      "source": [
        "A=[5,2,8,1]\n",
        "for i in range(len(A)-1,-1,-1):\n",
        "    print(A[i],end=\" \")"
      ],
      "metadata": {
        "colab": {
          "base_uri": "https://localhost:8080/"
        },
        "id": "XQj0p8ZOXh-r",
        "outputId": "a3db5a6b-9f77-414d-d5e2-dbe44f59ae8c"
      },
      "execution_count": 8,
      "outputs": [
        {
          "output_type": "stream",
          "name": "stdout",
          "text": [
            "1 8 2 5 "
          ]
        }
      ]
    },
    {
      "cell_type": "code",
      "source": [
        "bilangan = int(input(\"Masukkan sebuah bilangan bulat: \"))\n",
        "if bilangan <= 1:\n",
        "    print(f\"{bilangan} bukan bilangan prima.\")\n",
        "else:\n",
        "    is_prima = True\n",
        "    for i in range(2, int(bilangan**0.5) + 1):\n",
        "        if bilangan % i == 0:\n",
        "            is_prima = False\n",
        "            break\n",
        "    if is_prima:\n",
        "        print(f\"{bilangan} adalah bilangan prima.\")\n",
        "    else:\n",
        "        print(f\"{bilangan} bukan bilangan prima.\")"
      ],
      "metadata": {
        "colab": {
          "base_uri": "https://localhost:8080/"
        },
        "id": "ZFNZJzaEYQdi",
        "outputId": "e43db841-6576-4a00-9440-f9842bdb2403"
      },
      "execution_count": 9,
      "outputs": [
        {
          "output_type": "stream",
          "name": "stdout",
          "text": [
            "Masukkan sebuah bilangan bulat: 13\n",
            "13 adalah bilangan prima.\n"
          ]
        }
      ]
    }
  ],
  "metadata": {
    "colab": {
      "name": "Welcome To Colab",
      "toc_visible": true,
      "provenance": [],
      "include_colab_link": true
    },
    "kernelspec": {
      "display_name": "Python 3",
      "name": "python3"
    }
  },
  "nbformat": 4,
  "nbformat_minor": 0
}