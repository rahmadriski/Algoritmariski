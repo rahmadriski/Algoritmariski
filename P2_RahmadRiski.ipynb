{
  "cells": [
    {
      "cell_type": "markdown",
      "metadata": {
        "id": "view-in-github",
        "colab_type": "text"
      },
      "source": [
        "<a href=\"https://colab.research.google.com/github/rahmadriski/Algoritmariski/blob/main/P2_RahmadRiski.ipynb\" target=\"_parent\"><img src=\"https://colab.research.google.com/assets/colab-badge.svg\" alt=\"Open In Colab\"/></a>"
      ]
    },
    {
      "cell_type": "code",
      "source": [
        "\n",
        "# Program untuk menghitung total belanja\n",
        "\n",
        "# Meminta input jumlah barang yang dibeli\n",
        "jumlah_barang = int(input(\"Masukkan jumlah barang yang dibeli: \"))\n",
        "\n",
        "# Inisialisasi variabel total belanja\n",
        "total_belanja = 0\n",
        "\n",
        "# Loop untuk meminta input harga dan jumlah barang untuk setiap barang\n",
        "for i in range(jumlah_barang):\n",
        "    print(f\"\\nBarang ke-{i+1}:\")\n",
        "    harga_satuan = float(input(\"Masukkan harga satuan barang: \"))\n",
        "    jumlah_unit = int(input(\"Masukkan jumlah unit barang: \"))\n",
        "\n",
        "    # Menghitung total harga untuk barang ini\n",
        "    total_harga_barang = harga_satuan * jumlah_unit\n",
        "\n",
        "    # Menambahkan total harga barang ke total belanja\n",
        "    total_belanja += total_harga_barang\n",
        "\n",
        "# Menampilkan total belanja\n",
        "print(f\"\\nTotal belanja anda adalah: Rp {total_belanja:.2f}\")"
      ],
      "metadata": {
        "colab": {
          "base_uri": "https://localhost:8080/"
        },
        "id": "eZC3ER6N1AZS",
        "outputId": "83338e03-a8df-48bd-8fce-b1b8d37d5e44"
      },
      "execution_count": null,
      "outputs": [
        {
          "output_type": "stream",
          "name": "stdout",
          "text": [
            "Masukkan jumlah barang yang dibeli: 2\n",
            "\n",
            "Barang ke-1:\n",
            "Masukkan harga satuan barang: 2\n",
            "Masukkan jumlah unit barang: 3\n",
            "\n",
            "Barang ke-2:\n",
            "Masukkan harga satuan barang: 4\n",
            "Masukkan jumlah unit barang: 5\n",
            "\n",
            "Total belanja anda adalah: Rp 26.00\n"
          ]
        }
      ]
    },
    {
      "cell_type": "code",
      "source": [
        "# Program untuk menentukan kategori usia berdasarkan input dari user\n",
        "\n",
        "# Meminta input usia dari pengguna\n",
        "usia = int(input(\"Masukkan usia Anda: \"))\n",
        "\n",
        "# Menentukan kategori usia menggunakan if-elif-else\n",
        "if usia < 13:\n",
        "    print(\"Anda adalah seorang Anak-anak.\")\n",
        "elif 13 <= usia <= 18:\n",
        "    print(\"Anda adalah seorang Remaja.\")\n",
        "elif 19 <= usia <= 64:\n",
        "    print(\"Anda adalah seorang Dewasa.\")\n",
        "else:\n",
        "    print(\"Anda adalah seorang Lansia.\")"
      ],
      "metadata": {
        "colab": {
          "base_uri": "https://localhost:8080/"
        },
        "id": "-2xdl9eBw6Fz",
        "outputId": "70a30925-0661-4f6c-ef9f-2243acec8f59"
      },
      "execution_count": null,
      "outputs": [
        {
          "output_type": "stream",
          "name": "stdout",
          "text": [
            "Masukkan usia Anda: 22\n",
            "Anda adalah seorang Dewasa.\n"
          ]
        }
      ]
    },
    {
      "cell_type": "code",
      "execution_count": null,
      "metadata": {
        "colab": {
          "base_uri": "https://localhost:8080/"
        },
        "id": "rJfAH77vv2Tz",
        "outputId": "85363b0a-9459-4c22-a25e-f6bec8254f19"
      },
      "outputs": [
        {
          "output_type": "stream",
          "name": "stdout",
          "text": [
            "Masukkan nama Anda: Rahmad Riski\n",
            "Masukkan jenis kelamin Anda (pria/wanita): pria\n",
            "Halo bro, Rahmad Riski!\n"
          ]
        }
      ],
      "source": [
        "\n",
        "# Meminta user untuk memasukkan nama\n",
        "nama = input(\"Masukkan nama Anda: \")\n",
        "\n",
        "# Meminta user untuk memasukkan jenis kelamin\n",
        "kelamin = input(\"Masukkan jenis kelamin Anda (pria/wanita): \").lower()\n",
        "\n",
        "# Mengecek jenis kelamin dan mencetak pesan yang sesuai\n",
        "if kelamin == \"pria\":\n",
        "    print(f\"Halo bro, {nama}!\")\n",
        "elif kelamin == \"wanita\":\n",
        "    print(f\"Halo sis, {nama}!\")\n",
        "else:\n",
        "    print(\"Jenis kelamin yang dimasukkan tidak valid.\")"
      ]
    },
    {
      "cell_type": "code",
      "source": [
        "# Minta pengguna untuk memasukkan sebuah bilangan\n",
        "bilangan = int(input(\"Masukkan sebuah bilangan: \"))\n",
        "\n",
        "# Cek apakah bilangan tersebut habis dibagi 3\n",
        "if bilangan % 3 == 0:\n",
        "    print(f\"Bilangan {bilangan} habis dibagi 3.\")\n",
        "else:\n",
        "    print(f\"Bilangan {bilangan} tidak habis dibagi 3.\")"
      ],
      "metadata": {
        "colab": {
          "base_uri": "https://localhost:8080/"
        },
        "id": "Gql8mwEj1zzI",
        "outputId": "d7e46521-b56f-4270-c3e1-6a20d6b8ef06"
      },
      "execution_count": null,
      "outputs": [
        {
          "output_type": "stream",
          "name": "stdout",
          "text": [
            "Masukkan sebuah bilangan: 9\n",
            "Bilangan 9 habis dibagi 3.\n"
          ]
        }
      ]
    }
  ],
  "metadata": {
    "colab": {
      "provenance": [],
      "include_colab_link": true
    },
    "kernelspec": {
      "display_name": "Python 3",
      "name": "python3"
    }
  },
  "nbformat": 4,
  "nbformat_minor": 0
}